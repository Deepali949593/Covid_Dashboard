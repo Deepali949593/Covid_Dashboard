{
 "cells": [
  {
   "cell_type": "code",
   "execution_count": 2,
   "id": "fa363454-9d7b-4c02-8f81-3f00d6437ea4",
   "metadata": {},
   "outputs": [],
   "source": [
    "#Import libraries and connect to MongoDB\n",
    "import pymongo\n",
    "import pandas as pd\n",
    "import matplotlib.pyplot as plt\n",
    "import seaborn as sns\n",
    "import plotly.express as px\n",
    "\n",
    "client = pymongo.MongoClient(\"mongodb://localhost:27017\")  # Or Atlas URI\n",
    "db = client[\"covidDB\"]\n",
    "collection = db[\"covidData\"]\n"
   ]
  },
  {
   "cell_type": "code",
   "execution_count": 1,
   "id": "90ab899e-5525-45d5-90a1-fd557e7b64f7",
   "metadata": {},
   "outputs": [
    {
     "ename": "NameError",
     "evalue": "name 'collection' is not defined",
     "output_type": "error",
     "traceback": [
      "\u001b[31m---------------------------------------------------------------------------\u001b[39m",
      "\u001b[31mNameError\u001b[39m                                 Traceback (most recent call last)",
      "\u001b[36mCell\u001b[39m\u001b[36m \u001b[39m\u001b[32mIn[1]\u001b[39m\u001b[32m, line 2\u001b[39m\n\u001b[32m      1\u001b[39m \u001b[38;5;66;03m#Load data from mongoDB\u001b[39;00m\n\u001b[32m----> \u001b[39m\u001b[32m2\u001b[39m data = \u001b[38;5;28mlist\u001b[39m(\u001b[43mcollection\u001b[49m.find().sort(\u001b[33m\"\u001b[39m\u001b[33mfetchedAt\u001b[39m\u001b[33m\"\u001b[39m, -\u001b[32m1\u001b[39m).limit(\u001b[32m200\u001b[39m))\n\u001b[32m      3\u001b[39m df = pd.DataFrame(data)\n\u001b[32m      5\u001b[39m \u001b[38;5;66;03m# Keep only the columns you care about\u001b[39;00m\n",
      "\u001b[31mNameError\u001b[39m: name 'collection' is not defined"
     ]
    }
   ],
   "source": [
    "#Load data from mongoDB\n",
    "data = list(collection.find().sort(\"fetchedAt\", -1).limit(200))\n",
    "df = pd.DataFrame(data)\n",
    "\n",
    "# Keep only the columns you care about\n",
    "df = df[[\"country\", \"cases\", \"deaths\", \"recovered\", \"active\", \"population\", \"fetchedAt\"]]\n",
    "df.head()\n"
   ]
  },
  {
   "cell_type": "code",
   "execution_count": null,
   "id": "6af324a5-c8d0-43f1-8549-0014a44c1338",
   "metadata": {},
   "outputs": [],
   "source": [
    "#Explore basic data\n",
    "print(f\"Total countries: {df['country'].nunique()}\")\n",
    "print(df.describe())\n",
    "\n",
    "# Check for missing values\n",
    "df.isnull().sum()\n"
   ]
  },
  {
   "cell_type": "code",
   "execution_count": null,
   "id": "329861b9-8a3a-4b1f-8da7-931f67dca1d4",
   "metadata": {},
   "outputs": [],
   "source": [
    "#Visualization – Bar chart\n",
    "top15 = df.sort_values(\"cases\", ascending=False).head(15)\n",
    "\n",
    "plt.figure(figsize=(10,6))\n",
    "sns.barplot(data=top15, y=\"country\", x=\"cases\", palette=\"viridis\")\n",
    "plt.title(\"Top 15 Countries by COVID-19 Cases\")\n",
    "plt.xlabel(\"Cases\")\n",
    "plt.ylabel(\"Country\")\n",
    "plt.show()\n"
   ]
  },
  {
   "cell_type": "code",
   "execution_count": null,
   "id": "491a5305-7f73-406e-86af-119c34b5ba9e",
   "metadata": {},
   "outputs": [],
   "source": [
    "#Visualization – Scatter plot (death vs recovery)\n",
    "df[\"death_rate\"] = (df[\"deaths\"] / df[\"cases\"]) * 100\n",
    "df[\"recovery_rate\"] = (df[\"recovered\"] / df[\"cases\"]) * 100\n",
    "\n",
    "fig = px.scatter(df, x=\"recovery_rate\", y=\"death_rate\", size=\"cases\", hover_name=\"country\",\n",
    "                 title=\"Recovery Rate vs Death Rate by Country\")\n",
    "fig.show()\n"
   ]
  },
  {
   "cell_type": "code",
   "execution_count": 1,
   "id": "b5f9f98c-5ace-4e90-ab38-82a808035f74",
   "metadata": {},
   "outputs": [
    {
     "ename": "NameError",
     "evalue": "name 'df' is not defined",
     "output_type": "error",
     "traceback": [
      "\u001b[31m---------------------------------------------------------------------------\u001b[39m",
      "\u001b[31mNameError\u001b[39m                                 Traceback (most recent call last)",
      "\u001b[36mCell\u001b[39m\u001b[36m \u001b[39m\u001b[32mIn[1]\u001b[39m\u001b[32m, line 2\u001b[39m\n\u001b[32m      1\u001b[39m \u001b[38;5;66;03m#Export the cleaned data\u001b[39;00m\n\u001b[32m----> \u001b[39m\u001b[32m2\u001b[39m \u001b[43mdf\u001b[49m.to_csv(\u001b[33m\"\u001b[39m\u001b[33m../data/covid_cleaned_data.csv\u001b[39m\u001b[33m\"\u001b[39m, index=\u001b[38;5;28;01mFalse\u001b[39;00m)\n",
      "\u001b[31mNameError\u001b[39m: name 'df' is not defined"
     ]
    }
   ],
   "source": [
    "#Export the cleaned data\n",
    "df.to_csv(\"covid_cleaned_data.csv\", index=False)\n"
   ]
  },
  {
   "cell_type": "code",
   "execution_count": null,
   "id": "1128ea6a-d043-47cf-b0b7-977ba4ac7277",
   "metadata": {},
   "outputs": [],
   "source": []
  },
  {
   "cell_type": "code",
   "execution_count": null,
   "id": "875dac08-7ffa-4298-bd43-034187dfcac7",
   "metadata": {},
   "outputs": [],
   "source": []
  },
  {
   "cell_type": "code",
   "execution_count": null,
   "id": "fad5038e-e117-44b2-9b28-3e57d2f85cca",
   "metadata": {},
   "outputs": [],
   "source": []
  }
 ],
 "metadata": {
  "kernelspec": {
   "display_name": "Python 3 (ipykernel)",
   "language": "python",
   "name": "python3"
  },
  "language_info": {
   "codemirror_mode": {
    "name": "ipython",
    "version": 3
   },
   "file_extension": ".py",
   "mimetype": "text/x-python",
   "name": "python",
   "nbconvert_exporter": "python",
   "pygments_lexer": "ipython3",
   "version": "3.11.9"
  }
 },
 "nbformat": 4,
 "nbformat_minor": 5
}
